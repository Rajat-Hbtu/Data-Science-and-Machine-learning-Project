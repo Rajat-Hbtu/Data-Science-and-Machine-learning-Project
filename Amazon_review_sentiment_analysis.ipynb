{
  "nbformat": 4,
  "nbformat_minor": 0,
  "metadata": {
    "colab": {
      "name": "Amazon review sentiment analysis.ipynb",
      "provenance": [],
      "collapsed_sections": [],
      "authorship_tag": "ABX9TyNHfrPUTK0O/VljNc3bMGDl",
      "include_colab_link": true
    },
    "kernelspec": {
      "name": "python3",
      "display_name": "Python 3"
    },
    "language_info": {
      "name": "python"
    },
    "accelerator": "GPU"
  },
  "cells": [
    {
      "cell_type": "markdown",
      "metadata": {
        "id": "view-in-github",
        "colab_type": "text"
      },
      "source": [
        "<a href=\"https://colab.research.google.com/github/Rajat-Hbtu/Data-Science-and-Machine-learning-Project/blob/main/Amazon_review_sentiment_analysis.ipynb\" target=\"_parent\"><img src=\"https://colab.research.google.com/assets/colab-badge.svg\" alt=\"Open In Colab\"/></a>"
      ]
    },
    {
      "cell_type": "code",
      "metadata": {
        "colab": {
          "base_uri": "https://localhost:8080/"
        },
        "id": "-qUZRT8xziX7",
        "outputId": "aeb3cced-2e59-4fd1-996e-c22e77517de3"
      },
      "source": [
        "!wget 'https://www.dropbox.com/s/6f77obqunuwm24e/Amazon%20Reviews.zip?dl=0'"
      ],
      "execution_count": null,
      "outputs": [
        {
          "output_type": "stream",
          "text": [
            "--2021-05-29 10:43:33--  https://www.dropbox.com/s/6f77obqunuwm24e/Amazon%20Reviews.zip?dl=0\n",
            "Resolving www.dropbox.com (www.dropbox.com)... 162.125.4.18, 2620:100:6016:18::a27d:112\n",
            "Connecting to www.dropbox.com (www.dropbox.com)|162.125.4.18|:443... connected.\n",
            "HTTP request sent, awaiting response... 301 Moved Permanently\n",
            "Location: /s/raw/6f77obqunuwm24e/Amazon%20Reviews.zip [following]\n",
            "--2021-05-29 10:43:34--  https://www.dropbox.com/s/raw/6f77obqunuwm24e/Amazon%20Reviews.zip\n",
            "Reusing existing connection to www.dropbox.com:443.\n",
            "HTTP request sent, awaiting response... 302 Found\n",
            "Location: https://ucb2fc965a1bba6f412f5f08b013.dl.dropboxusercontent.com/cd/0/inline/BPbeiuzrwZ0fCgRaDLDDv3HuvblYRbicR1hvO3fJBuEzbslMMLnx3CdefN8WWHV_-5ynv_nW6gQlbhEJmTNCsRLUi1af0M52__eL70Jp1yE4ObvBlfJhTWp9sI8P1l8LfSa3RYqaSL_X98sRZjXFEdOb/file# [following]\n",
            "--2021-05-29 10:43:34--  https://ucb2fc965a1bba6f412f5f08b013.dl.dropboxusercontent.com/cd/0/inline/BPbeiuzrwZ0fCgRaDLDDv3HuvblYRbicR1hvO3fJBuEzbslMMLnx3CdefN8WWHV_-5ynv_nW6gQlbhEJmTNCsRLUi1af0M52__eL70Jp1yE4ObvBlfJhTWp9sI8P1l8LfSa3RYqaSL_X98sRZjXFEdOb/file\n",
            "Resolving ucb2fc965a1bba6f412f5f08b013.dl.dropboxusercontent.com (ucb2fc965a1bba6f412f5f08b013.dl.dropboxusercontent.com)... 162.125.1.15, 2620:100:6032:15::a27d:520f\n",
            "Connecting to ucb2fc965a1bba6f412f5f08b013.dl.dropboxusercontent.com (ucb2fc965a1bba6f412f5f08b013.dl.dropboxusercontent.com)|162.125.1.15|:443... connected.\n",
            "HTTP request sent, awaiting response... 302 Found\n",
            "Location: /cd/0/inline2/BPaKNw1-s7woEdXKDJ8bwEOktIuS9giLBAZCTse8n1Wn0cD3R8xZ9cBLXjwCvVlqUnCcluG1OFHn9yq5CzFA9N0V87D0idy1M-MGnivD4MD99_oCvETvPUEAsPOhYLCgLAlcYsM_SYVZhgJTly8CGhsM1DR_Thhv6xE0jdGWHxNPC4RYQJRfL5J5C5Pkxh7Gsc515BqSxUpszy__Ohi3OT0cLBkYYDvQUnrzQJjRvzgDOWzlK3gJP7EkpzSxZNG3lQi2tkSYPjtzmHy4dISsG7IsZp_qkSoXogLvyfACVa7Th6-O-lxh55XMweOyFVTZRo2KrslUAAtd5Pw5J4KHU8dR3kjKNRHuuwl-OXWIjUsRfWTIpHZ6-Gb8R4j-VDbEmTU/file [following]\n",
            "--2021-05-29 10:43:34--  https://ucb2fc965a1bba6f412f5f08b013.dl.dropboxusercontent.com/cd/0/inline2/BPaKNw1-s7woEdXKDJ8bwEOktIuS9giLBAZCTse8n1Wn0cD3R8xZ9cBLXjwCvVlqUnCcluG1OFHn9yq5CzFA9N0V87D0idy1M-MGnivD4MD99_oCvETvPUEAsPOhYLCgLAlcYsM_SYVZhgJTly8CGhsM1DR_Thhv6xE0jdGWHxNPC4RYQJRfL5J5C5Pkxh7Gsc515BqSxUpszy__Ohi3OT0cLBkYYDvQUnrzQJjRvzgDOWzlK3gJP7EkpzSxZNG3lQi2tkSYPjtzmHy4dISsG7IsZp_qkSoXogLvyfACVa7Th6-O-lxh55XMweOyFVTZRo2KrslUAAtd5Pw5J4KHU8dR3kjKNRHuuwl-OXWIjUsRfWTIpHZ6-Gb8R4j-VDbEmTU/file\n",
            "Reusing existing connection to ucb2fc965a1bba6f412f5f08b013.dl.dropboxusercontent.com:443.\n",
            "HTTP request sent, awaiting response... 200 OK\n",
            "Length: 517080965 (493M) [application/zip]\n",
            "Saving to: ‘Amazon Reviews.zip?dl=0’\n",
            "\n",
            "Amazon Reviews.zip? 100%[===================>] 493.13M  64.4MB/s    in 7.3s    \n",
            "\n",
            "2021-05-29 10:43:42 (67.8 MB/s) - ‘Amazon Reviews.zip?dl=0’ saved [517080965/517080965]\n",
            "\n"
          ],
          "name": "stdout"
        }
      ]
    },
    {
      "cell_type": "code",
      "metadata": {
        "colab": {
          "base_uri": "https://localhost:8080/"
        },
        "id": "aok4Gj1m0jLP",
        "outputId": "9b2e07b9-f7e8-48d6-b173-51a49bb474ad"
      },
      "source": [
        "!unzip '/content/Amazon Reviews.zip?dl=0'"
      ],
      "execution_count": null,
      "outputs": [
        {
          "output_type": "stream",
          "text": [
            "Archive:  /content/Amazon Reviews.zip?dl=0\n",
            "  inflating: test.ft.txt.bz2         \n",
            "  inflating: train.ft.txt.bz2        \n"
          ],
          "name": "stdout"
        }
      ]
    },
    {
      "cell_type": "code",
      "metadata": {
        "id": "mw_8b3ow0rj4"
      },
      "source": [
        "!bzip2 -d '/content/train.ft.txt.bz2'\n",
        "!bzip2 -d '/content/test.ft.txt.bz2'"
      ],
      "execution_count": null,
      "outputs": []
    },
    {
      "cell_type": "code",
      "metadata": {
        "id": "UHX1F1S6cA7Y"
      },
      "source": [
        "import pandas as pd\n",
        "import numpy as np\n",
        "import matplotlib.pyplot as plt"
      ],
      "execution_count": null,
      "outputs": []
    },
    {
      "cell_type": "code",
      "metadata": {
        "id": "lyFXCcJn6yjz"
      },
      "source": [
        "review=[]\n",
        "label=[]\n",
        "file=open('/content/train.ft.txt')\n",
        "for line in file:\n",
        "  review.append(line[11:])\n",
        "  label.append(line[9])"
      ],
      "execution_count": null,
      "outputs": []
    },
    {
      "cell_type": "code",
      "metadata": {
        "colab": {
          "base_uri": "https://localhost:8080/"
        },
        "id": "D4DRnz1P1uFY",
        "outputId": "9edb6bed-37f9-4964-e817-61746ce964d1"
      },
      "source": [
        "import nltk\n",
        "nltk.download('punkt')"
      ],
      "execution_count": null,
      "outputs": [
        {
          "output_type": "stream",
          "text": [
            "[nltk_data] Downloading package punkt to /root/nltk_data...\n",
            "[nltk_data]   Package punkt is already up-to-date!\n"
          ],
          "name": "stdout"
        },
        {
          "output_type": "execute_result",
          "data": {
            "text/plain": [
              "True"
            ]
          },
          "metadata": {
            "tags": []
          },
          "execution_count": 3
        }
      ]
    },
    {
      "cell_type": "code",
      "metadata": {
        "colab": {
          "base_uri": "https://localhost:8080/"
        },
        "id": "OI-1r1mzGih1",
        "outputId": "ab6dcc07-7d8a-4d2c-aff8-5bfa6616dc29"
      },
      "source": [
        "nltk.download('stopwords')"
      ],
      "execution_count": null,
      "outputs": [
        {
          "output_type": "stream",
          "text": [
            "[nltk_data] Downloading package stopwords to /root/nltk_data...\n",
            "[nltk_data]   Package stopwords is already up-to-date!\n"
          ],
          "name": "stdout"
        },
        {
          "output_type": "execute_result",
          "data": {
            "text/plain": [
              "True"
            ]
          },
          "metadata": {
            "tags": []
          },
          "execution_count": 4
        }
      ]
    },
    {
      "cell_type": "code",
      "metadata": {
        "id": "LoJA1fv4D8gZ"
      },
      "source": [
        "from nltk.tokenize import RegexpTokenizer\n",
        "from nltk.corpus import stopwords\n",
        "from nltk.stem import SnowballStemmer"
      ],
      "execution_count": null,
      "outputs": []
    },
    {
      "cell_type": "code",
      "metadata": {
        "id": "UQ7UH_JDHQeI"
      },
      "source": [
        "stopword=stopwords.words('english')\n",
        "tokenizer=RegexpTokenizer('\\w+')\n",
        "stemer=SnowballStemmer(language='english')"
      ],
      "execution_count": null,
      "outputs": []
    },
    {
      "cell_type": "code",
      "metadata": {
        "id": "ZmdIFb0kAg97"
      },
      "source": [
        "\n",
        "def clean_reviews(reviews):\n",
        "  tokens=tokenizer.tokenize(reviews)\n",
        "  rm_sw_tokens=[word for word in tokens if word not in stopword]\n",
        "  stemmed_token=[stemer.stem(token) for token in rm_sw_tokens]\n",
        "  stemmed_review=\" \".join(stemmed_token)\n",
        "  return stemmed_review\n",
        "  \n"
      ],
      "execution_count": null,
      "outputs": []
    },
    {
      "cell_type": "code",
      "metadata": {
        "id": "cNhVseuUILKY"
      },
      "source": [
        "from sklearn.feature_extraction.text import TfidfVectorizer,CountVectorizer\n",
        "tfidf=TfidfVectorizer()\n",
        "def train_vectorization(clean_reviews):\n",
        "  return tfidf.fit_transform(clean_reviews)\n",
        "def test_vectorization(clean_reviews):\n",
        "  return tfidf.transform(clean_reviews)"
      ],
      "execution_count": null,
      "outputs": []
    },
    {
      "cell_type": "code",
      "metadata": {
        "id": "VrEZRqmNT6AX"
      },
      "source": [
        "clean_review=[clean_reviews(sent) for sent in review[:15000]]"
      ],
      "execution_count": null,
      "outputs": []
    },
    {
      "cell_type": "code",
      "metadata": {
        "id": "5tiNIxCsjtvK"
      },
      "source": [
        "X=train_vectorization(clean_review)"
      ],
      "execution_count": null,
      "outputs": []
    },
    {
      "cell_type": "code",
      "metadata": {
        "id": "D-wxOKoxVyBX"
      },
      "source": [
        "X=X.toarray()"
      ],
      "execution_count": null,
      "outputs": []
    },
    {
      "cell_type": "code",
      "metadata": {
        "colab": {
          "base_uri": "https://localhost:8080/"
        },
        "id": "wVccHBiy0Ldk",
        "outputId": "ff108ac9-5e83-4612-b246-138b13b124ca"
      },
      "source": [
        "type(X[0,0])"
      ],
      "execution_count": null,
      "outputs": [
        {
          "output_type": "execute_result",
          "data": {
            "text/plain": [
              "numpy.uint8"
            ]
          },
          "metadata": {
            "tags": []
          },
          "execution_count": 11
        }
      ]
    },
    {
      "cell_type": "code",
      "metadata": {
        "colab": {
          "base_uri": "https://localhost:8080/"
        },
        "id": "I-y8dKf6eIKC",
        "outputId": "c993f6ac-b110-48f0-9167-e067e530ef85"
      },
      "source": [
        "X.shape"
      ],
      "execution_count": null,
      "outputs": [
        {
          "output_type": "execute_result",
          "data": {
            "text/plain": [
              "(15000, 26860)"
            ]
          },
          "metadata": {
            "tags": []
          },
          "execution_count": 12
        }
      ]
    },
    {
      "cell_type": "code",
      "metadata": {
        "id": "pZ6zFSqQYVo8"
      },
      "source": [
        "Y=np.asarray(label[:15000]).astype(int)"
      ],
      "execution_count": null,
      "outputs": []
    },
    {
      "cell_type": "code",
      "metadata": {
        "colab": {
          "base_uri": "https://localhost:8080/"
        },
        "id": "Wr1EvJXtddaf",
        "outputId": "f4a59b5e-81ae-4438-9445-271e7c611cb0"
      },
      "source": [
        "X.shape,Y.shape"
      ],
      "execution_count": null,
      "outputs": [
        {
          "output_type": "execute_result",
          "data": {
            "text/plain": [
              "((15000, 26860), (15000,))"
            ]
          },
          "metadata": {
            "tags": []
          },
          "execution_count": 19
        }
      ]
    },
    {
      "cell_type": "code",
      "metadata": {
        "id": "o1RdOvXycW1c"
      },
      "source": [
        "from sklearn.model_selection import train_test_split\n",
        "x_train,x_test,y_train,y_test = train_test_split(X,Y,test_size=0.2)"
      ],
      "execution_count": null,
      "outputs": []
    },
    {
      "cell_type": "code",
      "metadata": {
        "colab": {
          "base_uri": "https://localhost:8080/"
        },
        "id": "JOVRU2UllYii",
        "outputId": "9cdbc52c-8e06-4e54-9a8c-a5db92e6c836"
      },
      "source": [
        "x_train.shape,y_train.shape"
      ],
      "execution_count": null,
      "outputs": [
        {
          "output_type": "execute_result",
          "data": {
            "text/plain": [
              "((12000, 26860), (12000,))"
            ]
          },
          "metadata": {
            "tags": []
          },
          "execution_count": 15
        }
      ]
    },
    {
      "cell_type": "code",
      "metadata": {
        "colab": {
          "base_uri": "https://localhost:8080/"
        },
        "id": "S7C19uLAlD46",
        "outputId": "f25fc265-bd3a-4f83-b159-5c5c862a0920"
      },
      "source": [
        "from sklearn.naive_bayes import MultinomialNB\n",
        "nb=MultinomialNB()\n",
        "nb.fit(x_train,y_train)"
      ],
      "execution_count": null,
      "outputs": [
        {
          "output_type": "execute_result",
          "data": {
            "text/plain": [
              "MultinomialNB(alpha=1.0, class_prior=None, fit_prior=True)"
            ]
          },
          "metadata": {
            "tags": []
          },
          "execution_count": 25
        }
      ]
    },
    {
      "cell_type": "code",
      "metadata": {
        "colab": {
          "base_uri": "https://localhost:8080/"
        },
        "id": "hxl04BNtmKCX",
        "outputId": "61010298-b91d-44fb-ab71-63e8a7bd9b43"
      },
      "source": [
        "nb.score(x_test,y_test)"
      ],
      "execution_count": null,
      "outputs": [
        {
          "output_type": "execute_result",
          "data": {
            "text/plain": [
              "0.8426666666666667"
            ]
          },
          "metadata": {
            "tags": []
          },
          "execution_count": 26
        }
      ]
    },
    {
      "cell_type": "code",
      "metadata": {
        "id": "q_o_eUztmXT4"
      },
      "source": [
        "predictions=nb.predict(x_test)"
      ],
      "execution_count": null,
      "outputs": []
    },
    {
      "cell_type": "code",
      "metadata": {
        "colab": {
          "base_uri": "https://localhost:8080/"
        },
        "id": "Q4NLqvG-nX99",
        "outputId": "a9d6adf8-d63a-4939-caa0-b28a98736efa"
      },
      "source": [
        "from sklearn.naive_bayes import BernoulliNB\n",
        "bnb=BernoulliNB()\n",
        "bnb.fit(x_train,y_train)"
      ],
      "execution_count": null,
      "outputs": [
        {
          "output_type": "execute_result",
          "data": {
            "text/plain": [
              "BernoulliNB(alpha=1.0, binarize=0.0, class_prior=None, fit_prior=True)"
            ]
          },
          "metadata": {
            "tags": []
          },
          "execution_count": 28
        }
      ]
    },
    {
      "cell_type": "code",
      "metadata": {
        "colab": {
          "base_uri": "https://localhost:8080/"
        },
        "id": "MIDfjlexnhg9",
        "outputId": "08a4ecda-7a93-4122-9e89-aceb0a046dab"
      },
      "source": [
        "bnb.score(x_test,y_test)"
      ],
      "execution_count": null,
      "outputs": [
        {
          "output_type": "execute_result",
          "data": {
            "text/plain": [
              "0.848"
            ]
          },
          "metadata": {
            "tags": []
          },
          "execution_count": 29
        }
      ]
    },
    {
      "cell_type": "code",
      "metadata": {
        "id": "aeLzIqenmpjS"
      },
      "source": [
        "from sklearn.metrics import accuracy_score\n",
        "from sklearn.metrics import roc_auc_score\n",
        "from sklearn.metrics import confusion_matrix\n",
        "\n",
        "\n",
        "# Accuracy\n",
        "acc = accuracy_score(y_test, predictions)\n",
        "\n",
        "# AUC score\n",
        "auc_score = roc_auc_score(y_test, predictions)\n",
        "\n",
        "# Confusion Matrix\n",
        "cnf_matrix = confusion_matrix(y_test, predictions, )"
      ],
      "execution_count": null,
      "outputs": []
    },
    {
      "cell_type": "code",
      "metadata": {
        "colab": {
          "base_uri": "https://localhost:8080/"
        },
        "id": "UU8B4volm1X1",
        "outputId": "03e922ca-e884-4069-b5b3-e0a701a6c8f0"
      },
      "source": [
        "acc,auc_score"
      ],
      "execution_count": null,
      "outputs": [
        {
          "output_type": "execute_result",
          "data": {
            "text/plain": [
              "(0.8426666666666667, 0.8435056665789231)"
            ]
          },
          "metadata": {
            "tags": []
          },
          "execution_count": 31
        }
      ]
    },
    {
      "cell_type": "code",
      "metadata": {
        "colab": {
          "base_uri": "https://localhost:8080/"
        },
        "id": "5cjPmTn-m1pn",
        "outputId": "1e14dcb6-b00e-4ced-8206-f4eb6a16f87c"
      },
      "source": [
        "import seaborn as sns\n",
        "sns.heatmap(cnf_matrix, annot=True, cbar=False, xticklabels=['Negative Review', 'Positive Review'], yticklabels=['Negative Review', 'Positive Review'], fmt = \"d\")\n",
        "plt.yticks(rotation = 0)\n",
        "plt.title('Confusion Matrix')\n",
        "plt.xlabel('True Values')\n",
        "plt.ylabel('Predicted Values')\n",
        "plt.show()"
      ],
      "execution_count": null,
      "outputs": [
        {
          "output_type": "display_data",
          "data": {
            "image/png": "[encoded data removed]",
            "text/plain": [
              "<Figure size 432x288 with 1 Axes>"
            ]
          },
          "metadata": {
            "tags": [],
            "needs_background": "light"
          }
        }
      ]
    }
  ]
}